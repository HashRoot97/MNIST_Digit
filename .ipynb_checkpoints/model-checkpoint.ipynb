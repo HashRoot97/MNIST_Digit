{
 "cells": [
  {
   "cell_type": "code",
   "execution_count": 1,
   "metadata": {},
   "outputs": [],
   "source": [
    "import numpy as np\n",
    "import pandas as pd\n",
    "from numpy import random\n",
    "from matplotlib import pyplot as plt"
   ]
  },
  {
   "cell_type": "code",
   "execution_count": 2,
   "metadata": {},
   "outputs": [],
   "source": [
    "df = pd.read_csv('./Data/train.csv')"
   ]
  },
  {
   "cell_type": "code",
   "execution_count": 3,
   "metadata": {},
   "outputs": [
    {
     "name": "stdout",
     "output_type": "stream",
     "text": [
      "33600\n"
     ]
    }
   ],
   "source": [
    "split = int(0.8*len(df.values))\n",
    "print(split)"
   ]
  },
  {
   "cell_type": "code",
   "execution_count": 4,
   "metadata": {},
   "outputs": [
    {
     "name": "stdout",
     "output_type": "stream",
     "text": [
      "(42000, 785)\n"
     ]
    }
   ],
   "source": [
    "df_np = df.values\n",
    "print(df_np.shape)"
   ]
  },
  {
   "cell_type": "code",
   "execution_count": 5,
   "metadata": {},
   "outputs": [
    {
     "name": "stdout",
     "output_type": "stream",
     "text": [
      "(33600, 784) (33600,) (8400, 784) (8400,)\n"
     ]
    }
   ],
   "source": [
    "X_train = df_np[:split, 1:]\n",
    "Y_train = df_np[:split, 0]\n",
    "X_test = df_np[split:, 1:]\n",
    "Y_test = df_np[split:, 0]\n",
    "print(X_train.shape, Y_train.shape, X_test.shape, Y_test.shape)"
   ]
  },
  {
   "cell_type": "code",
   "execution_count": 6,
   "metadata": {},
   "outputs": [],
   "source": [
    "def preprocess(data):\n",
    "    new_data = []\n",
    "    for i in range(len(data)):\n",
    "        img = np.reshape(data[i], (28,28,1))\n",
    "        new_data.append(img)\n",
    "    new_data = np.asarray(new_data)\n",
    "    return new_data"
   ]
  },
  {
   "cell_type": "code",
   "execution_count": 7,
   "metadata": {},
   "outputs": [],
   "source": [
    "def one_hot_encode(data):\n",
    "    new_data = []\n",
    "    for i in range(len(data)):\n",
    "        index = data[i]\n",
    "        a = [0,0,0,0,0,0,0,0,0,0]\n",
    "        a[index] = 1\n",
    "        new_data.append(a)\n",
    "    new_data = np.asarray(new_data)\n",
    "    return new_data"
   ]
  },
  {
   "cell_type": "code",
   "execution_count": 8,
   "metadata": {},
   "outputs": [
    {
     "name": "stdout",
     "output_type": "stream",
     "text": [
      "(33600, 28, 28, 1) (33600, 10) (8400, 28, 28, 1) (8400, 10)\n"
     ]
    }
   ],
   "source": [
    "x_train = preprocess(X_train)\n",
    "y_train = one_hot_encode(Y_train)\n",
    "x_test = preprocess(X_test)\n",
    "y_test = one_hot_encode(Y_test)\n",
    "print(x_train.shape, y_train.shape, x_test.shape, y_test.shape)"
   ]
  },
  {
   "cell_type": "code",
   "execution_count": 9,
   "metadata": {},
   "outputs": [
    {
     "data": {
      "image/png": "[encoded data removed]",
      "text/plain": [
       "<matplotlib.figure.Figure at 0x26360939630>"
      ]
     },
     "metadata": {},
     "output_type": "display_data"
    },
    {
     "name": "stdout",
     "output_type": "stream",
     "text": [
      "[0 0 0 0 0 0 0 0 0 1]\n"
     ]
    }
   ],
   "source": [
    "def print_sample():\n",
    "    rand_num = random.randint(0,33000)\n",
    "    img = np.reshape(x_train[rand_num], (28,28))\n",
    "    plt.imshow(img)\n",
    "    plt.show()\n",
    "    label = y_train[rand_num]\n",
    "    print(label)\n",
    "print_sample()"
   ]
  },
  {
   "cell_type": "code",
   "execution_count": 31,
   "metadata": {},
   "outputs": [],
   "source": [
    "epochs = 10\n",
    "img_size = 28\n",
    "num_channels = 1\n",
    "num_classes = 10\n",
    "batch_size = 100\n",
    "iters_train = int(len(x_train)/batch_size)\n",
    "iters_test = int(len(x_test)/batch_size)\n",
    "acc_every = 42\n",
    "acc_test_every = 21"
   ]
  },
  {
   "cell_type": "code",
   "execution_count": 11,
   "metadata": {},
   "outputs": [],
   "source": [
    "import tensorflow as tf"
   ]
  },
  {
   "cell_type": "code",
   "execution_count": 12,
   "metadata": {},
   "outputs": [],
   "source": [
    "with tf.device('/gpu:0'):\n",
    "    x = tf.placeholder(tf.float32, shape=[None, 28, 28, 1])\n",
    "    y_true = tf.placeholder(tf.float32, shape=[None, num_classes])"
   ]
  },
  {
   "cell_type": "code",
   "execution_count": 13,
   "metadata": {},
   "outputs": [],
   "source": [
    "y_true_cls = tf.argmax(y_true, axis=1)"
   ]
  },
  {
   "cell_type": "code",
   "execution_count": 14,
   "metadata": {},
   "outputs": [
    {
     "data": {
      "text/plain": [
       "<tf.Tensor 'conv2d/Relu:0' shape=(?, 28, 28, 16) dtype=float32>"
      ]
     },
     "execution_count": 14,
     "metadata": {},
     "output_type": "execute_result"
    }
   ],
   "source": [
    "conv_1 = tf.layers.conv2d(inputs=x, kernel_size=5, filters=16, padding='same', activation=tf.nn.relu)\n",
    "conv_1"
   ]
  },
  {
   "cell_type": "code",
   "execution_count": 15,
   "metadata": {},
   "outputs": [
    {
     "data": {
      "text/plain": [
       "<tf.Tensor 'max_pooling2d/MaxPool:0' shape=(?, 14, 14, 16) dtype=float32>"
      ]
     },
     "execution_count": 15,
     "metadata": {},
     "output_type": "execute_result"
    }
   ],
   "source": [
    "max_pool_1 = tf.layers.max_pooling2d(inputs=conv_1, pool_size=2, strides=2)\n",
    "max_pool_1"
   ]
  },
  {
   "cell_type": "code",
   "execution_count": 16,
   "metadata": {},
   "outputs": [
    {
     "data": {
      "text/plain": [
       "<tf.Tensor 'conv2d_1/Relu:0' shape=(?, 14, 14, 32) dtype=float32>"
      ]
     },
     "execution_count": 16,
     "metadata": {},
     "output_type": "execute_result"
    }
   ],
   "source": [
    "conv_2 = tf.layers.conv2d(inputs=max_pool_1, kernel_size=5, filters=32, padding='same', activation=tf.nn.relu)\n",
    "conv_2"
   ]
  },
  {
   "cell_type": "code",
   "execution_count": 17,
   "metadata": {},
   "outputs": [
    {
     "data": {
      "text/plain": [
       "<tf.Tensor 'max_pooling2d_1/MaxPool:0' shape=(?, 7, 7, 32) dtype=float32>"
      ]
     },
     "execution_count": 17,
     "metadata": {},
     "output_type": "execute_result"
    }
   ],
   "source": [
    "max_pool_2 = tf.layers.max_pooling2d(inputs=conv_2, pool_size=2, strides=2)\n",
    "max_pool_2"
   ]
  },
  {
   "cell_type": "code",
   "execution_count": 18,
   "metadata": {},
   "outputs": [
    {
     "data": {
      "text/plain": [
       "<tf.Tensor 'flatten/Reshape:0' shape=(?, 1568) dtype=float32>"
      ]
     },
     "execution_count": 18,
     "metadata": {},
     "output_type": "execute_result"
    }
   ],
   "source": [
    "flat = tf.layers.flatten(max_pool_2)\n",
    "flat"
   ]
  },
  {
   "cell_type": "code",
   "execution_count": 19,
   "metadata": {},
   "outputs": [
    {
     "data": {
      "text/plain": [
       "<tf.Tensor 'dense/Relu:0' shape=(?, 128) dtype=float32>"
      ]
     },
     "execution_count": 19,
     "metadata": {},
     "output_type": "execute_result"
    }
   ],
   "source": [
    "dense_1 = tf.layers.dense(inputs=flat, units=128, activation=tf.nn.relu)\n",
    "dense_1"
   ]
  },
  {
   "cell_type": "code",
   "execution_count": 20,
   "metadata": {},
   "outputs": [
    {
     "data": {
      "text/plain": [
       "<tf.Tensor 'dense_1/BiasAdd:0' shape=(?, 10) dtype=float32>"
      ]
     },
     "execution_count": 20,
     "metadata": {},
     "output_type": "execute_result"
    }
   ],
   "source": [
    "dense_2 = tf.layers.dense(inputs=dense_1, units=10, activation=None)\n",
    "dense_2"
   ]
  },
  {
   "cell_type": "code",
   "execution_count": 21,
   "metadata": {},
   "outputs": [],
   "source": [
    "y_pred = tf.nn.softmax(logits=dense_2)"
   ]
  },
  {
   "cell_type": "code",
   "execution_count": 22,
   "metadata": {},
   "outputs": [],
   "source": [
    "y_pred_cls = tf.argmax(y_pred, axis=1)"
   ]
  },
  {
   "cell_type": "code",
   "execution_count": 23,
   "metadata": {},
   "outputs": [],
   "source": [
    "correct_prediction = tf.equal(y_pred_cls, y_true_cls)\n",
    "accuracy = tf.reduce_mean(tf.cast(correct_prediction, tf.float32))"
   ]
  },
  {
   "cell_type": "code",
   "execution_count": 24,
   "metadata": {},
   "outputs": [
    {
     "name": "stdout",
     "output_type": "stream",
     "text": [
      "WARNING:tensorflow:From <ipython-input-24-06255f4fad62>:1: softmax_cross_entropy_with_logits (from tensorflow.python.ops.nn_ops) is deprecated and will be removed in a future version.\n",
      "Instructions for updating:\n",
      "\n",
      "Future major versions of TensorFlow will allow gradients to flow\n",
      "into the labels input on backprop by default.\n",
      "\n",
      "See tf.nn.softmax_cross_entropy_with_logits_v2.\n",
      "\n"
     ]
    }
   ],
   "source": [
    "cross_entropy = tf.nn.softmax_cross_entropy_with_logits(logits=dense_2, labels=y_true)\n",
    "loss = tf.reduce_mean(cross_entropy)\n",
    "optimizer = tf.train.AdamOptimizer(learning_rate=1e-4).minimize(loss)"
   ]
  },
  {
   "cell_type": "code",
   "execution_count": 25,
   "metadata": {},
   "outputs": [],
   "source": [
    "session = tf.Session()"
   ]
  },
  {
   "cell_type": "code",
   "execution_count": 26,
   "metadata": {},
   "outputs": [],
   "source": [
    "session.run(tf.global_variables_initializer())"
   ]
  },
  {
   "cell_type": "code",
   "execution_count": 27,
   "metadata": {},
   "outputs": [],
   "source": [
    "def get_random_batch():\n",
    "    data_x = []\n",
    "    data_y = []\n",
    "    for i in range(100):\n",
    "        rand_num = random.randint(0, 33599)\n",
    "        data_x.append(x_train[rand_num])\n",
    "        data_y.append(y_train[rand_num])\n",
    "    data_x = np.asarray(data_x)\n",
    "    data_y = np.asarray(data_y)\n",
    "    return data_x, data_y"
   ]
  },
  {
   "cell_type": "code",
   "execution_count": 28,
   "metadata": {},
   "outputs": [
    {
     "name": "stdout",
     "output_type": "stream",
     "text": [
      "Epoch :  1\n",
      "Accuracy : 0.719\n",
      "Epoch :  2\n",
      "Accuracy : 0.921\n",
      "Epoch :  3\n",
      "Accuracy : 0.947\n",
      "Epoch :  4\n",
      "Accuracy : 0.970\n",
      "Epoch :  5\n",
      "Accuracy : 0.975\n",
      "Epoch :  6\n",
      "Accuracy : 0.980\n",
      "Epoch :  7\n",
      "Accuracy : 0.986\n",
      "Epoch :  8\n",
      "Accuracy : 0.989\n",
      "Epoch :  9\n",
      "Accuracy : 0.991\n",
      "Epoch :  10\n",
      "Accuracy : 0.994\n"
     ]
    }
   ],
   "source": [
    "## Training\n",
    "for j in range(epochs):\n",
    "    train_acc = 0\n",
    "    print('Epoch : ', j+1)\n",
    "    for i in range(iters_train):\n",
    "        frm = i*batch_size\n",
    "        to = ((i*batch_size)+batch_size)\n",
    "        X = x_train[frm:to]\n",
    "        Y = y_train[frm:to]\n",
    "        feed_dict = {x:X, y_true:Y}\n",
    "        session.run(optimizer, feed_dict=feed_dict)\n",
    "\n",
    "        if i%acc_every == 0:\n",
    "            acc = session.run(accuracy, feed_dict=feed_dict)\n",
    "            train_acc = train_acc + acc\n",
    "    train_acc = train_acc/8\n",
    "    print('Accuracy : %.3f'%(train_acc))\n",
    "    "
   ]
  },
  {
   "cell_type": "code",
   "execution_count": 33,
   "metadata": {},
   "outputs": [
    {
     "name": "stdout",
     "output_type": "stream",
     "text": [
      "Testing Accuracy\n",
      "0.990\n"
     ]
    }
   ],
   "source": [
    "#Testing\n",
    "print('Testing Accuracy')\n",
    "test_acc = 0\n",
    "for i in range(iters_test):\n",
    "    frm = i*100\n",
    "    to = ((i*100)+100)\n",
    "    X = x_test[frm:to]\n",
    "    Y = y_test[frm:to]\n",
    "    feed_dict = {x:X, y_true:Y}\n",
    "    session.run(optimizer, feed_dict=feed_dict)\n",
    "\n",
    "    if i%21 == 0:\n",
    "        acc = session.run(accuracy, feed_dict=feed_dict)\n",
    "        test_acc = test_acc + acc\n",
    "test_acc = test_acc / 4\n",
    "print('%.3f'%(test_acc))"
   ]
  },
  {
   "cell_type": "code",
   "execution_count": null,
   "metadata": {},
   "outputs": [],
   "source": [
    "session.close()"
   ]
  }
 ],
 "metadata": {
  "kernelspec": {
   "display_name": "Python 3",
   "language": "python",
   "name": "python3"
  },
  "language_info": {
   "codemirror_mode": {
    "name": "ipython",
    "version": 3
   },
   "file_extension": ".py",
   "mimetype": "text/x-python",
   "name": "python",
   "nbconvert_exporter": "python",
   "pygments_lexer": "ipython3",
   "version": "3.6.4"
  }
 },
 "nbformat": 4,
 "nbformat_minor": 2
}
